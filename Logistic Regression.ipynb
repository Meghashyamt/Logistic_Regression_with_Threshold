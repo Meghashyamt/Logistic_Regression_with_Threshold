{
 "cells": [
  {
   "cell_type": "markdown",
   "metadata": {},
   "source": [
    "## `Logistic Regression`"
   ]
  },
  {
   "cell_type": "code",
   "execution_count": null,
   "metadata": {},
   "outputs": [],
   "source": []
  },
  {
   "cell_type": "markdown",
   "metadata": {},
   "source": [
    "1. Business Understanding\n",
    "\n",
    "2. Data Mining\n",
    "\n",
    "3. Data Cleaning\n",
    "\n",
    "4. Data Exploration\n",
    "\n",
    "5. Feature Engineering\n",
    "\n",
    "6. Predictive Modelling\n",
    "\n",
    "7. Data Visualization"
   ]
  },
  {
   "cell_type": "markdown",
   "metadata": {},
   "source": [
    "#### Business Understanding"
   ]
  },
  {
   "cell_type": "markdown",
   "metadata": {},
   "source": [
    "Purchase Analysis, Predicting whether particular person can purchase/ not purchase."
   ]
  },
  {
   "cell_type": "markdown",
   "metadata": {},
   "source": [
    "#### Data Mining "
   ]
  },
  {
   "cell_type": "code",
   "execution_count": 2,
   "metadata": {},
   "outputs": [],
   "source": [
    "# Importing the libraries\n",
    "import numpy as np\n",
    "import matplotlib.pyplot as plt\n",
    "import pandas as pd\n",
    "import seaborn as sb"
   ]
  },
  {
   "cell_type": "code",
   "execution_count": 3,
   "metadata": {},
   "outputs": [],
   "source": [
    "# Import the dataset\n",
    "dataset=pd.read_csv('Purchase.csv')"
   ]
  },
  {
   "cell_type": "code",
   "execution_count": 4,
   "metadata": {},
   "outputs": [
    {
     "data": {
      "text/html": [
       "<div>\n",
       "<style scoped>\n",
       "    .dataframe tbody tr th:only-of-type {\n",
       "        vertical-align: middle;\n",
       "    }\n",
       "\n",
       "    .dataframe tbody tr th {\n",
       "        vertical-align: top;\n",
       "    }\n",
       "\n",
       "    .dataframe thead th {\n",
       "        text-align: right;\n",
       "    }\n",
       "</style>\n",
       "<table border=\"1\" class=\"dataframe\">\n",
       "  <thead>\n",
       "    <tr style=\"text-align: right;\">\n",
       "      <th></th>\n",
       "      <th>User ID</th>\n",
       "      <th>Gender</th>\n",
       "      <th>Age</th>\n",
       "      <th>EstimatedSalary</th>\n",
       "      <th>Purchased</th>\n",
       "    </tr>\n",
       "  </thead>\n",
       "  <tbody>\n",
       "    <tr>\n",
       "      <th>0</th>\n",
       "      <td>15624510</td>\n",
       "      <td>Male</td>\n",
       "      <td>19</td>\n",
       "      <td>19000</td>\n",
       "      <td>0</td>\n",
       "    </tr>\n",
       "    <tr>\n",
       "      <th>1</th>\n",
       "      <td>15810944</td>\n",
       "      <td>Male</td>\n",
       "      <td>35</td>\n",
       "      <td>20000</td>\n",
       "      <td>0</td>\n",
       "    </tr>\n",
       "    <tr>\n",
       "      <th>2</th>\n",
       "      <td>15668575</td>\n",
       "      <td>Female</td>\n",
       "      <td>26</td>\n",
       "      <td>43000</td>\n",
       "      <td>0</td>\n",
       "    </tr>\n",
       "    <tr>\n",
       "      <th>3</th>\n",
       "      <td>15603246</td>\n",
       "      <td>Female</td>\n",
       "      <td>27</td>\n",
       "      <td>57000</td>\n",
       "      <td>0</td>\n",
       "    </tr>\n",
       "    <tr>\n",
       "      <th>4</th>\n",
       "      <td>15804002</td>\n",
       "      <td>Male</td>\n",
       "      <td>19</td>\n",
       "      <td>76000</td>\n",
       "      <td>0</td>\n",
       "    </tr>\n",
       "  </tbody>\n",
       "</table>\n",
       "</div>"
      ],
      "text/plain": [
       "    User ID  Gender  Age  EstimatedSalary  Purchased\n",
       "0  15624510    Male   19            19000          0\n",
       "1  15810944    Male   35            20000          0\n",
       "2  15668575  Female   26            43000          0\n",
       "3  15603246  Female   27            57000          0\n",
       "4  15804002    Male   19            76000          0"
      ]
     },
     "execution_count": 4,
     "metadata": {},
     "output_type": "execute_result"
    }
   ],
   "source": [
    "dataset.head()"
   ]
  },
  {
   "cell_type": "code",
   "execution_count": 5,
   "metadata": {},
   "outputs": [
    {
     "data": {
      "text/plain": [
       "(400, 5)"
      ]
     },
     "execution_count": 5,
     "metadata": {},
     "output_type": "execute_result"
    }
   ],
   "source": [
    "dataset.shape"
   ]
  },
  {
   "cell_type": "markdown",
   "metadata": {},
   "source": [
    "#### Data Cleaning"
   ]
  },
  {
   "cell_type": "code",
   "execution_count": 6,
   "metadata": {},
   "outputs": [
    {
     "data": {
      "text/plain": [
       "User ID            0\n",
       "Gender             0\n",
       "Age                0\n",
       "EstimatedSalary    0\n",
       "Purchased          0\n",
       "dtype: int64"
      ]
     },
     "execution_count": 6,
     "metadata": {},
     "output_type": "execute_result"
    }
   ],
   "source": [
    "dataset.isnull().sum()"
   ]
  },
  {
   "cell_type": "code",
   "execution_count": 7,
   "metadata": {
    "scrolled": false
   },
   "outputs": [
    {
     "name": "stdout",
     "output_type": "stream",
     "text": [
      "<class 'pandas.core.frame.DataFrame'>\n",
      "RangeIndex: 400 entries, 0 to 399\n",
      "Data columns (total 5 columns):\n",
      " #   Column           Non-Null Count  Dtype \n",
      "---  ------           --------------  ----- \n",
      " 0   User ID          400 non-null    int64 \n",
      " 1   Gender           400 non-null    object\n",
      " 2   Age              400 non-null    int64 \n",
      " 3   EstimatedSalary  400 non-null    int64 \n",
      " 4   Purchased        400 non-null    int64 \n",
      "dtypes: int64(4), object(1)\n",
      "memory usage: 15.8+ KB\n"
     ]
    }
   ],
   "source": [
    "dataset.info()  # full information of the data"
   ]
  },
  {
   "cell_type": "code",
   "execution_count": 8,
   "metadata": {},
   "outputs": [],
   "source": [
    "# dataset.fillna(dataset.mean()) , if we have null values"
   ]
  },
  {
   "cell_type": "markdown",
   "metadata": {},
   "source": [
    "#### Data Exploration"
   ]
  },
  {
   "cell_type": "code",
   "execution_count": 9,
   "metadata": {},
   "outputs": [
    {
     "data": {
      "text/html": [
       "<div>\n",
       "<style scoped>\n",
       "    .dataframe tbody tr th:only-of-type {\n",
       "        vertical-align: middle;\n",
       "    }\n",
       "\n",
       "    .dataframe tbody tr th {\n",
       "        vertical-align: top;\n",
       "    }\n",
       "\n",
       "    .dataframe thead th {\n",
       "        text-align: right;\n",
       "    }\n",
       "</style>\n",
       "<table border=\"1\" class=\"dataframe\">\n",
       "  <thead>\n",
       "    <tr style=\"text-align: right;\">\n",
       "      <th></th>\n",
       "      <th>User ID</th>\n",
       "      <th>Age</th>\n",
       "      <th>EstimatedSalary</th>\n",
       "      <th>Purchased</th>\n",
       "    </tr>\n",
       "  </thead>\n",
       "  <tbody>\n",
       "    <tr>\n",
       "      <th>User ID</th>\n",
       "      <td>1.000000</td>\n",
       "      <td>-0.000721</td>\n",
       "      <td>0.071097</td>\n",
       "      <td>0.007120</td>\n",
       "    </tr>\n",
       "    <tr>\n",
       "      <th>Age</th>\n",
       "      <td>-0.000721</td>\n",
       "      <td>1.000000</td>\n",
       "      <td>0.155238</td>\n",
       "      <td>0.622454</td>\n",
       "    </tr>\n",
       "    <tr>\n",
       "      <th>EstimatedSalary</th>\n",
       "      <td>0.071097</td>\n",
       "      <td>0.155238</td>\n",
       "      <td>1.000000</td>\n",
       "      <td>0.362083</td>\n",
       "    </tr>\n",
       "    <tr>\n",
       "      <th>Purchased</th>\n",
       "      <td>0.007120</td>\n",
       "      <td>0.622454</td>\n",
       "      <td>0.362083</td>\n",
       "      <td>1.000000</td>\n",
       "    </tr>\n",
       "  </tbody>\n",
       "</table>\n",
       "</div>"
      ],
      "text/plain": [
       "                  User ID       Age  EstimatedSalary  Purchased\n",
       "User ID          1.000000 -0.000721         0.071097   0.007120\n",
       "Age             -0.000721  1.000000         0.155238   0.622454\n",
       "EstimatedSalary  0.071097  0.155238         1.000000   0.362083\n",
       "Purchased        0.007120  0.622454         0.362083   1.000000"
      ]
     },
     "execution_count": 9,
     "metadata": {},
     "output_type": "execute_result"
    }
   ],
   "source": [
    "dataset.corr()  #  Correlation"
   ]
  },
  {
   "cell_type": "code",
   "execution_count": 10,
   "metadata": {
    "scrolled": true
   },
   "outputs": [
    {
     "data": {
      "image/png": "[encoded data removed]",
      "text/plain": [
       "<Figure size 432x288 with 2 Axes>"
      ]
     },
     "metadata": {
      "needs_background": "light"
     },
     "output_type": "display_data"
    }
   ],
   "source": [
    "sb.heatmap(dataset.corr(),annot=True);"
   ]
  },
  {
   "cell_type": "code",
   "execution_count": 11,
   "metadata": {},
   "outputs": [
    {
     "data": {
      "text/plain": [
       "array([0, 1], dtype=int64)"
      ]
     },
     "execution_count": 11,
     "metadata": {},
     "output_type": "execute_result"
    }
   ],
   "source": [
    "dataset['Purchased'].unique()"
   ]
  },
  {
   "cell_type": "markdown",
   "metadata": {},
   "source": [
    "#### Feature Engineering"
   ]
  },
  {
   "cell_type": "code",
   "execution_count": 12,
   "metadata": {},
   "outputs": [
    {
     "data": {
      "text/html": [
       "<div>\n",
       "<style scoped>\n",
       "    .dataframe tbody tr th:only-of-type {\n",
       "        vertical-align: middle;\n",
       "    }\n",
       "\n",
       "    .dataframe tbody tr th {\n",
       "        vertical-align: top;\n",
       "    }\n",
       "\n",
       "    .dataframe thead th {\n",
       "        text-align: right;\n",
       "    }\n",
       "</style>\n",
       "<table border=\"1\" class=\"dataframe\">\n",
       "  <thead>\n",
       "    <tr style=\"text-align: right;\">\n",
       "      <th></th>\n",
       "      <th>User ID</th>\n",
       "      <th>Gender</th>\n",
       "      <th>Age</th>\n",
       "      <th>EstimatedSalary</th>\n",
       "      <th>Purchased</th>\n",
       "    </tr>\n",
       "  </thead>\n",
       "  <tbody>\n",
       "    <tr>\n",
       "      <th>0</th>\n",
       "      <td>15624510</td>\n",
       "      <td>Male</td>\n",
       "      <td>19</td>\n",
       "      <td>19000</td>\n",
       "      <td>0</td>\n",
       "    </tr>\n",
       "    <tr>\n",
       "      <th>1</th>\n",
       "      <td>15810944</td>\n",
       "      <td>Male</td>\n",
       "      <td>35</td>\n",
       "      <td>20000</td>\n",
       "      <td>0</td>\n",
       "    </tr>\n",
       "    <tr>\n",
       "      <th>2</th>\n",
       "      <td>15668575</td>\n",
       "      <td>Female</td>\n",
       "      <td>26</td>\n",
       "      <td>43000</td>\n",
       "      <td>0</td>\n",
       "    </tr>\n",
       "    <tr>\n",
       "      <th>3</th>\n",
       "      <td>15603246</td>\n",
       "      <td>Female</td>\n",
       "      <td>27</td>\n",
       "      <td>57000</td>\n",
       "      <td>0</td>\n",
       "    </tr>\n",
       "    <tr>\n",
       "      <th>4</th>\n",
       "      <td>15804002</td>\n",
       "      <td>Male</td>\n",
       "      <td>19</td>\n",
       "      <td>76000</td>\n",
       "      <td>0</td>\n",
       "    </tr>\n",
       "  </tbody>\n",
       "</table>\n",
       "</div>"
      ],
      "text/plain": [
       "    User ID  Gender  Age  EstimatedSalary  Purchased\n",
       "0  15624510    Male   19            19000          0\n",
       "1  15810944    Male   35            20000          0\n",
       "2  15668575  Female   26            43000          0\n",
       "3  15603246  Female   27            57000          0\n",
       "4  15804002    Male   19            76000          0"
      ]
     },
     "execution_count": 12,
     "metadata": {},
     "output_type": "execute_result"
    }
   ],
   "source": [
    "dataset.head()"
   ]
  },
  {
   "cell_type": "code",
   "execution_count": 13,
   "metadata": {},
   "outputs": [],
   "source": [
    "X=dataset.iloc[:,[2,3]].values  # Independent variable\n",
    "y=dataset.iloc[:,4].values   # Dependent variable"
   ]
  },
  {
   "cell_type": "markdown",
   "metadata": {},
   "source": [
    "#### Predictive Modelling"
   ]
  },
  {
   "cell_type": "code",
   "execution_count": 14,
   "metadata": {},
   "outputs": [],
   "source": [
    "from sklearn.model_selection import train_test_split\n",
    "X_train,X_test,y_train,y_test=train_test_split(X,y,test_size=0.10,random_state=0)"
   ]
  },
  {
   "cell_type": "code",
   "execution_count": 15,
   "metadata": {},
   "outputs": [
    {
     "data": {
      "text/plain": [
       "(360, 2)"
      ]
     },
     "execution_count": 15,
     "metadata": {},
     "output_type": "execute_result"
    }
   ],
   "source": [
    "X_train.shape"
   ]
  },
  {
   "cell_type": "code",
   "execution_count": 16,
   "metadata": {},
   "outputs": [
    {
     "data": {
      "text/plain": [
       "(40, 2)"
      ]
     },
     "execution_count": 16,
     "metadata": {},
     "output_type": "execute_result"
    }
   ],
   "source": [
    "X_test.shape"
   ]
  },
  {
   "cell_type": "code",
   "execution_count": 17,
   "metadata": {},
   "outputs": [
    {
     "data": {
      "text/plain": [
       "(360,)"
      ]
     },
     "execution_count": 17,
     "metadata": {},
     "output_type": "execute_result"
    }
   ],
   "source": [
    "y_train.shape"
   ]
  },
  {
   "cell_type": "code",
   "execution_count": 18,
   "metadata": {},
   "outputs": [
    {
     "data": {
      "text/plain": [
       "(40,)"
      ]
     },
     "execution_count": 18,
     "metadata": {},
     "output_type": "execute_result"
    }
   ],
   "source": [
    "y_test.shape"
   ]
  },
  {
   "cell_type": "code",
   "execution_count": 19,
   "metadata": {},
   "outputs": [
    {
     "data": {
      "text/plain": [
       "LogisticRegression()"
      ]
     },
     "execution_count": 19,
     "metadata": {},
     "output_type": "execute_result"
    }
   ],
   "source": [
    "# Logistic Regression\n",
    "from sklearn.linear_model import LogisticRegression\n",
    "classifier=LogisticRegression()\n",
    "classifier.fit(X_train,y_train)   #  Training Process/fitting the model"
   ]
  },
  {
   "cell_type": "code",
   "execution_count": 20,
   "metadata": {},
   "outputs": [],
   "source": [
    "# Predicting the test data results\n",
    "y_pred=classifier.predict(X_test)"
   ]
  },
  {
   "cell_type": "code",
   "execution_count": 21,
   "metadata": {},
   "outputs": [
    {
     "data": {
      "text/plain": [
       "array([0, 0, 0, 0, 0, 0, 0, 0, 0, 0, 0, 0, 0, 0, 0, 0, 0, 0, 0, 0, 0, 0,\n",
       "       0, 0, 0, 0, 0, 0, 0, 0, 0, 0, 0, 0, 0, 0, 0, 0, 0, 0], dtype=int64)"
      ]
     },
     "execution_count": 21,
     "metadata": {},
     "output_type": "execute_result"
    }
   ],
   "source": [
    "y_pred"
   ]
  },
  {
   "cell_type": "code",
   "execution_count": 22,
   "metadata": {},
   "outputs": [],
   "source": [
    "y_pred_prob=classifier.predict_proba(X_test)"
   ]
  },
  {
   "cell_type": "code",
   "execution_count": 23,
   "metadata": {
    "scrolled": true
   },
   "outputs": [
    {
     "data": {
      "text/plain": [
       "array([[0.54215453, 0.45784547],\n",
       "       [0.52426532, 0.47573468],\n",
       "       [0.53636228, 0.46363772],\n",
       "       [0.5382942 , 0.4617058 ],\n",
       "       [0.52426532, 0.47573468],\n",
       "       [0.50971254, 0.49028746],\n",
       "       [0.50728481, 0.49271519],\n",
       "       [0.56948644, 0.43051356],\n",
       "       [0.53297882, 0.46702118],\n",
       "       [0.52087245, 0.47912755],\n",
       "       [0.52378075, 0.47621925],\n",
       "       [0.52668745, 0.47331255],\n",
       "       [0.52668745, 0.47331255],\n",
       "       [0.53732838, 0.46267162],\n",
       "       [0.54167225, 0.45832775],\n",
       "       [0.55658206, 0.44341794],\n",
       "       [0.53732838, 0.46267162],\n",
       "       [0.5411899 , 0.4588101 ],\n",
       "       [0.56280593, 0.43719407],\n",
       "       [0.51068352, 0.48931648],\n",
       "       [0.52281149, 0.47718851],\n",
       "       [0.56948644, 0.43051356],\n",
       "       [0.52474984, 0.47525016],\n",
       "       [0.55082111, 0.44917889],\n",
       "       [0.51359591, 0.48640409],\n",
       "       [0.56805695, 0.43194305],\n",
       "       [0.54215453, 0.45784547],\n",
       "       [0.538777  , 0.461223  ],\n",
       "       [0.53007629, 0.46992371],\n",
       "       [0.54167226, 0.45832774],\n",
       "       [0.54263672, 0.45736328],\n",
       "       [0.5382942 , 0.4617058 ],\n",
       "       [0.52910833, 0.47089167],\n",
       "       [0.52571874, 0.47428126],\n",
       "       [0.52814013, 0.47185987],\n",
       "       [0.52523431, 0.47476569],\n",
       "       [0.53925973, 0.46074027],\n",
       "       [0.52087245, 0.47912755],\n",
       "       [0.51650739, 0.48349261],\n",
       "       [0.51747765, 0.48252235]])"
      ]
     },
     "execution_count": 23,
     "metadata": {},
     "output_type": "execute_result"
    }
   ],
   "source": [
    "y_pred_prob"
   ]
  },
  {
   "cell_type": "code",
   "execution_count": 24,
   "metadata": {},
   "outputs": [
    {
     "data": {
      "text/plain": [
       "array([[32,  0],\n",
       "       [ 8,  0]], dtype=int64)"
      ]
     },
     "execution_count": 24,
     "metadata": {},
     "output_type": "execute_result"
    }
   ],
   "source": [
    "# Confusion Matrix\n",
    "from sklearn.metrics import confusion_matrix,accuracy_score\n",
    "confusion_matrix(y_test,y_pred)"
   ]
  },
  {
   "cell_type": "code",
   "execution_count": 25,
   "metadata": {},
   "outputs": [
    {
     "data": {
      "text/plain": [
       "0.8"
      ]
     },
     "execution_count": 25,
     "metadata": {},
     "output_type": "execute_result"
    }
   ],
   "source": [
    "accuracy_score(y_test,y_pred)"
   ]
  },
  {
   "cell_type": "code",
   "execution_count": 26,
   "metadata": {},
   "outputs": [],
   "source": [
    "# Standard Scaler\n",
    "from sklearn.preprocessing import StandardScaler\n",
    "sc=StandardScaler()\n",
    "X_train=sc.fit_transform(X_train)\n",
    "X_test=sc.transform(X_test)"
   ]
  },
  {
   "cell_type": "code",
   "execution_count": 27,
   "metadata": {
    "scrolled": true
   },
   "outputs": [
    {
     "data": {
      "text/plain": [
       "array([[-1.05714987,  0.53420426],\n",
       "       [ 0.2798728 , -0.51764734],\n",
       "       [-1.05714987,  0.41733186],\n",
       "       [-0.29313691, -1.45262654],\n",
       "       [ 0.47087604,  1.23543867],\n",
       "       [-1.05714987, -0.34233874],\n",
       "       [-0.10213368,  0.30045946],\n",
       "       [ 1.33039061,  0.59264046],\n",
       "       [-1.15265148, -1.16044554],\n",
       "       [ 1.04388575,  0.47576806],\n",
       "       [ 1.8078987 ,  1.52761967],\n",
       "       [-0.38863853, -1.30653604],\n",
       "       [-0.29313691, -0.37155684],\n",
       "       [-0.38863853,  1.32309297],\n",
       "       [ 1.99890194,  0.53420426],\n",
       "       [ 0.66187928, -1.10200934],\n",
       "       [-0.86614663,  0.38811376],\n",
       "       [-1.15265148,  0.30045946],\n",
       "       [ 1.04388575, -1.21888174],\n",
       "       [-1.43915634, -1.45262654],\n",
       "       [-0.57964177, -1.51106275],\n",
       "       [ 2.09440356, -0.80982834],\n",
       "       [-1.82116282,  0.18358706],\n",
       "       [-0.19763529,  0.85560337],\n",
       "       [-1.82116282, -1.27731794],\n",
       "       [ 2.09440356,  0.38811376],\n",
       "       [-1.34365472,  0.56342236],\n",
       "       [-1.05714987, -0.34233874],\n",
       "       [ 0.18437118, -0.66373784],\n",
       "       [ 0.37537442,  0.00827846],\n",
       "       [-0.57964177,  2.34572647],\n",
       "       [-0.29313691,  0.21280516],\n",
       "       [-1.53465796, -0.19624824],\n",
       "       [ 0.66187928, -1.39419034],\n",
       "       [-1.05714987,  0.56342236],\n",
       "       [-1.91666444,  0.35889566],\n",
       "       [ 0.37537442,  0.27124136],\n",
       "       [ 0.18437118, -0.28390254],\n",
       "       [ 1.42589223, -1.04357314],\n",
       "       [ 0.85288251,  1.08934817],\n",
       "       [ 1.90340032,  2.17041787],\n",
       "       [ 1.99890194,  0.38811376],\n",
       "       [-1.34365472, -0.42999304],\n",
       "       [-1.15265148, -1.01435504],\n",
       "       [ 1.90340032, -0.92670074],\n",
       "       [ 0.37537442,  0.30045946],\n",
       "       [ 0.18437118,  0.15436896],\n",
       "       [ 1.99890194,  1.76136447],\n",
       "       [ 0.75738089, -0.83904644],\n",
       "       [ 0.2798728 , -0.28390254],\n",
       "       [ 0.37537442, -0.16703014],\n",
       "       [-0.10213368,  2.22885407],\n",
       "       [-1.43915634, -0.63451974],\n",
       "       [-1.2481531 , -1.07279124],\n",
       "       [-1.34365472,  0.41733186],\n",
       "       [-1.05714987,  0.76794907],\n",
       "       [-1.43915634, -0.19624824],\n",
       "       [ 0.94838413, -1.07279124],\n",
       "       [ 0.94838413,  0.59264046],\n",
       "       [ 0.37537442,  1.00169387],\n",
       "       [ 0.56637766, -0.89748264],\n",
       "       [-0.57964177,  1.46918347],\n",
       "       [-0.00663206, -0.57608354],\n",
       "       [-0.57964177,  1.90745497],\n",
       "       [ 1.33039061, -1.42340844],\n",
       "       [ 1.42589223,  1.00169387],\n",
       "       [ 0.08886956, -0.80982834],\n",
       "       [-0.00663206, -0.25468444],\n",
       "       [-0.19763529, -0.57608354],\n",
       "       [-0.19763529, -0.19624824],\n",
       "       [-0.29313691, -1.30653604],\n",
       "       [-0.29313691, -0.57608354],\n",
       "       [ 0.37537442,  0.09593276],\n",
       "       [ 0.85288251, -0.60530164],\n",
       "       [ 1.99890194, -1.18966364],\n",
       "       [ 1.04388575, -0.13781204],\n",
       "       [ 0.66187928,  1.79058257],\n",
       "       [-0.67514339,  0.56342236],\n",
       "       [ 0.75738089,  0.35889566],\n",
       "       [ 0.85288251, -0.54686544],\n",
       "       [-1.15265148, -1.59871705],\n",
       "       [ 2.09440356,  0.94325767],\n",
       "       [-0.00663206,  1.23543867],\n",
       "       [ 0.18437118,  1.08934817],\n",
       "       [ 0.37537442, -0.48842924],\n",
       "       [-0.29313691, -0.31312064],\n",
       "       [ 0.94838413, -0.83904644],\n",
       "       [ 0.94838413,  1.87823687],\n",
       "       [-0.00663206,  1.26465677],\n",
       "       [-0.86614663,  2.28729027],\n",
       "       [-1.15265148, -1.59871705],\n",
       "       [ 2.09440356, -0.80982834],\n",
       "       [-1.34365472, -1.48184464],\n",
       "       [ 0.37537442,  2.31650837],\n",
       "       [ 0.75738089,  0.76794907],\n",
       "       [-0.96164825, -0.31312064],\n",
       "       [ 0.08886956,  0.76794907],\n",
       "       [-0.96164825,  0.56342236],\n",
       "       [ 0.2798728 ,  0.06671466],\n",
       "       [ 0.66187928, -1.27731794],\n",
       "       [-0.48414015, -0.02093964],\n",
       "       [-1.7256612 ,  0.35889566],\n",
       "       [-0.67514339,  0.12515086],\n",
       "       [ 0.37537442,  0.30045946],\n",
       "       [-0.29313691,  0.06671466],\n",
       "       [-0.48414015,  2.31650837],\n",
       "       [ 0.18437118,  0.03749656],\n",
       "       [ 1.23488899,  2.22885407],\n",
       "       [ 0.75738089,  0.27124136],\n",
       "       [-0.29313691,  0.15436896],\n",
       "       [-0.00663206, -0.54686544],\n",
       "       [-0.19763529,  0.15436896],\n",
       "       [-0.10213368,  0.24202326],\n",
       "       [-0.00663206, -0.25468444],\n",
       "       [ 2.09440356,  1.11856627],\n",
       "       [-1.7256612 ,  0.35889566],\n",
       "       [ 1.8078987 ,  0.12515086],\n",
       "       [ 0.37537442, -0.13781204],\n",
       "       [-1.15265148,  0.30045946],\n",
       "       [ 0.75738089,  1.38152917],\n",
       "       [-0.29313691, -0.25468444],\n",
       "       [-1.63015958, -0.05015774],\n",
       "       [-0.96164825, -0.75139214],\n",
       "       [ 0.2798728 ,  0.50498616],\n",
       "       [-0.10213368, -1.07279124],\n",
       "       [-1.05714987,  0.59264046],\n",
       "       [ 0.08886956, -0.80982834],\n",
       "       [-0.96164825,  1.55683777],\n",
       "       [-0.67514339,  1.41074727],\n",
       "       [-1.2481531 ,  0.50498616],\n",
       "       [-0.29313691,  0.03749656],\n",
       "       [-0.10213368,  0.00827846],\n",
       "       [-0.29313691, -0.89748264],\n",
       "       [ 0.85288251, -1.36497224],\n",
       "       [-0.29313691,  2.25807217],\n",
       "       [ 0.94838413,  1.99510927],\n",
       "       [-1.15265148,  0.47576806],\n",
       "       [-1.2481531 ,  0.27124136],\n",
       "       [ 1.33039061,  1.99510927],\n",
       "       [ 1.23488899, -1.36497224],\n",
       "       [-0.29313691, -0.28390254],\n",
       "       [-0.48414015,  1.26465677],\n",
       "       [-0.77064501,  1.08934817],\n",
       "       [ 0.94838413, -1.07279124],\n",
       "       [ 0.2798728 ,  0.30045946],\n",
       "       [ 0.94838413,  0.76794907],\n",
       "       [-0.67514339, -1.51106275],\n",
       "       [-0.67514339,  0.03749656],\n",
       "       [ 0.47087604,  1.73214637],\n",
       "       [ 1.99890194,  0.18358706],\n",
       "       [-1.91666444, -0.75139214],\n",
       "       [-0.19763529,  1.41074727],\n",
       "       [ 0.37537442,  0.59264046],\n",
       "       [ 0.85288251, -1.16044554],\n",
       "       [-1.15265148, -0.78061024],\n",
       "       [ 0.18437118,  0.24202326],\n",
       "       [ 0.75738089, -0.31312064],\n",
       "       [ 1.99890194, -0.80982834],\n",
       "       [ 0.75738089,  0.12515086],\n",
       "       [-0.29313691,  0.62185856],\n",
       "       [-0.96164825, -0.31312064],\n",
       "       [ 0.18437118, -0.37155684],\n",
       "       [ 1.99890194,  2.14119977],\n",
       "       [ 1.8078987 , -1.27731794],\n",
       "       [ 1.33039061, -0.92670074],\n",
       "       [ 0.85288251,  1.26465677],\n",
       "       [ 1.42589223,  2.14119977],\n",
       "       [-0.29313691, -1.24809984],\n",
       "       [ 1.90340032,  0.91403957],\n",
       "       [ 0.66187928, -0.72217404],\n",
       "       [-1.43915634,  0.35889566],\n",
       "       [ 0.75738089, -1.36497224],\n",
       "       [ 0.37537442, -0.13781204],\n",
       "       [-0.96164825,  0.41733186],\n",
       "       [-0.00663206, -0.31312064],\n",
       "       [-1.15265148,  0.41733186],\n",
       "       [-0.86614663, -1.21888174],\n",
       "       [-0.10213368,  0.03749656],\n",
       "       [-1.53465796, -0.42999304],\n",
       "       [ 0.94838413, -1.01435504],\n",
       "       [ 1.04388575, -1.21888174],\n",
       "       [-0.00663206, -0.13781204],\n",
       "       [-1.05714987, -1.54028085],\n",
       "       [ 0.75738089, -1.21888174],\n",
       "       [ 0.94838413,  2.08276357],\n",
       "       [-1.15265148, -1.54028085],\n",
       "       [-0.29313691,  0.79716717],\n",
       "       [ 0.08886956, -0.31312064],\n",
       "       [-1.34365472, -1.24809984],\n",
       "       [-0.57964177, -1.51106275],\n",
       "       [ 0.75738089,  0.53420426],\n",
       "       [-0.29313691, -0.34233874],\n",
       "       [ 1.71239708, -0.28390254],\n",
       "       [ 0.85288251, -1.04357314],\n",
       "       [ 0.18437118,  0.06671466],\n",
       "       [-0.57964177,  0.88482147],\n",
       "       [-1.82116282, -1.42340844],\n",
       "       [-1.2481531 ,  0.59264046],\n",
       "       [-0.29313691,  0.53420426],\n",
       "       [-0.96164825, -1.10200934],\n",
       "       [ 1.13938737, -1.45262654],\n",
       "       [ 0.18437118, -0.31312064],\n",
       "       [ 1.13938737, -0.75139214],\n",
       "       [-0.29313691,  0.06671466],\n",
       "       [ 0.18437118,  2.11198167],\n",
       "       [ 0.75738089, -1.10200934],\n",
       "       [ 0.08886956,  0.03749656],\n",
       "       [-1.7256612 ,  0.12515086],\n",
       "       [-0.86614663,  0.15436896],\n",
       "       [-0.67514339,  0.18358706],\n",
       "       [ 0.85288251, -1.30653604],\n",
       "       [ 0.18437118, -0.25468444],\n",
       "       [-0.38863853,  1.23543867],\n",
       "       [-0.00663206,  0.30045946],\n",
       "       [ 0.37537442,  0.15436896],\n",
       "       [ 0.85288251, -0.66373784],\n",
       "       [ 0.08886956,  0.15436896],\n",
       "       [-1.82116282, -1.30653604],\n",
       "       [-0.10213368,  0.30045946],\n",
       "       [-0.19763529, -0.28390254],\n",
       "       [ 0.2798728 , -0.51764734],\n",
       "       [-0.19763529,  1.61527397],\n",
       "       [ 0.94838413, -1.18966364],\n",
       "       [-0.19763529,  1.64449207],\n",
       "       [ 1.23488899,  1.87823687],\n",
       "       [-1.05714987, -0.37155684],\n",
       "       [-0.00663206,  0.03749656],\n",
       "       [ 0.08886956, -0.25468444],\n",
       "       [-1.53465796, -1.24809984],\n",
       "       [-0.48414015, -0.28390254],\n",
       "       [ 0.94838413,  0.12515086],\n",
       "       [ 1.90340032, -1.36497224],\n",
       "       [ 1.42589223,  0.06671466],\n",
       "       [-0.57964177,  1.38152917],\n",
       "       [ 1.52139385,  0.00827846],\n",
       "       [-0.77064501,  0.30045946],\n",
       "       [ 1.90340032,  0.73873096],\n",
       "       [-1.15265148, -0.51764734],\n",
       "       [ 0.66187928,  0.27124136],\n",
       "       [-1.34365472, -0.42999304],\n",
       "       [ 0.18437118,  0.15436896],\n",
       "       [-0.48414015, -1.21888174],\n",
       "       [ 0.56637766,  2.02432737],\n",
       "       [-1.53465796, -1.51106275],\n",
       "       [-0.48414015, -0.54686544],\n",
       "       [ 0.47087604,  1.84901877],\n",
       "       [-1.34365472, -1.10200934],\n",
       "       [ 0.75738089, -1.39419034],\n",
       "       [-0.29313691, -0.42999304],\n",
       "       [ 1.52139385,  1.00169387],\n",
       "       [ 0.94838413,  1.43996537],\n",
       "       [-0.29313691, -0.48842924],\n",
       "       [-0.10213368,  2.17041787],\n",
       "       [-1.43915634, -0.10859394],\n",
       "       [-0.10213368,  1.96589117],\n",
       "       [-0.67514339, -0.34233874],\n",
       "       [-0.48414015, -0.83904644],\n",
       "       [ 0.66187928, -1.39419034],\n",
       "       [-0.77064501, -1.59871705],\n",
       "       [-1.82116282, -1.48184464],\n",
       "       [ 1.04388575,  0.12515086],\n",
       "       [ 0.08886956,  1.52761967],\n",
       "       [-0.29313691,  0.09593276],\n",
       "       [ 0.08886956,  0.03749656],\n",
       "       [-1.34365472, -1.36497224],\n",
       "       [ 0.2798728 ,  0.06671466],\n",
       "       [-0.86614663,  0.38811376],\n",
       "       [ 1.52139385, -1.27731794],\n",
       "       [-0.29313691, -0.75139214],\n",
       "       [-0.10213368,  0.15436896],\n",
       "       [-0.86614663, -0.66373784],\n",
       "       [-0.67514339, -0.05015774],\n",
       "       [ 0.37537442, -0.45921114],\n",
       "       [-0.77064501,  1.90745497],\n",
       "       [ 1.33039061,  1.29387487],\n",
       "       [ 1.13938737, -0.98513694],\n",
       "       [ 1.71239708,  1.84901877],\n",
       "       [-0.86614663, -0.25468444],\n",
       "       [-0.77064501,  0.56342236],\n",
       "       [-1.15265148, -1.56949895],\n",
       "       [-0.48414015, -1.13122744],\n",
       "       [ 0.2798728 ,  0.06671466],\n",
       "       [-0.19763529, -1.07279124],\n",
       "       [ 1.61689547,  1.61527397],\n",
       "       [ 0.94838413,  1.79058257],\n",
       "       [ 0.2798728 ,  0.03749656],\n",
       "       [-0.77064501, -0.22546634],\n",
       "       [-0.10213368,  0.06671466],\n",
       "       [ 0.2798728 , -0.19624824],\n",
       "       [ 1.90340032, -0.66373784],\n",
       "       [-0.77064501,  1.35231107],\n",
       "       [-1.7256612 , -0.60530164],\n",
       "       [-0.10213368,  0.12515086],\n",
       "       [ 0.2798728 , -0.31312064],\n",
       "       [ 1.04388575,  0.56342236],\n",
       "       [-0.96164825,  0.27124136],\n",
       "       [ 1.42589223,  0.35889566],\n",
       "       [ 0.18437118, -0.37155684],\n",
       "       [ 2.09440356, -1.04357314],\n",
       "       [-0.29313691,  1.11856627],\n",
       "       [-1.63015958,  0.06671466],\n",
       "       [-0.00663206,  0.03749656],\n",
       "       [ 0.08886956,  1.06013007],\n",
       "       [-0.10213368, -0.37155684],\n",
       "       [-1.15265148,  0.06671466],\n",
       "       [-0.29313691, -1.36497224],\n",
       "       [ 1.52139385,  1.11856627],\n",
       "       [-0.77064501, -1.54028085],\n",
       "       [ 0.08886956,  1.87823687],\n",
       "       [-0.86614663, -0.78061024],\n",
       "       [-0.48414015, -0.78061024],\n",
       "       [-0.29313691, -0.92670074],\n",
       "       [ 0.2798728 , -0.72217404],\n",
       "       [ 0.2798728 ,  0.06671466],\n",
       "       [ 0.08886956,  1.87823687],\n",
       "       [-1.05714987,  1.96589117],\n",
       "       [-1.63015958, -1.56949895],\n",
       "       [-1.15265148, -1.10200934],\n",
       "       [-0.67514339, -0.10859394],\n",
       "       [ 0.08886956,  0.09593276],\n",
       "       [ 0.2798728 ,  0.27124136],\n",
       "       [ 0.85288251, -0.57608354],\n",
       "       [ 0.2798728 , -1.16044554],\n",
       "       [-0.10213368,  0.68029476],\n",
       "       [ 2.09440356, -0.69295594],\n",
       "       [-1.2481531 , -1.39419034],\n",
       "       [-0.96164825, -0.95591884],\n",
       "       [-0.00663206, -0.42999304],\n",
       "       [-0.19763529, -0.45921114],\n",
       "       [-1.7256612 , -0.98513694],\n",
       "       [ 1.71239708,  1.00169387],\n",
       "       [ 0.18437118, -0.37155684],\n",
       "       [ 0.37537442,  1.11856627],\n",
       "       [-1.7256612 , -1.36497224],\n",
       "       [ 0.18437118, -0.13781204],\n",
       "       [ 0.85288251, -1.45262654],\n",
       "       [-1.91666444,  0.47576806],\n",
       "       [-0.29313691,  0.27124136],\n",
       "       [ 1.8078987 , -1.07279124],\n",
       "       [-0.38863853,  0.06671466],\n",
       "       [ 1.04388575, -0.89748264],\n",
       "       [-1.05714987, -1.13122744],\n",
       "       [-1.82116282,  0.00827846],\n",
       "       [ 0.08886956,  0.27124136],\n",
       "       [-1.15265148,  0.32967756],\n",
       "       [-1.2481531 ,  0.30045946],\n",
       "       [-0.96164825,  0.44654996],\n",
       "       [ 1.61689547, -0.89748264],\n",
       "       [ 1.13938737,  0.53420426],\n",
       "       [ 1.04388575,  0.53420426],\n",
       "       [ 1.33039061,  2.34572647],\n",
       "       [-0.29313691, -0.13781204],\n",
       "       [ 0.37537442, -0.45921114],\n",
       "       [-0.38863853, -0.78061024],\n",
       "       [-0.10213368, -0.51764734],\n",
       "       [ 0.94838413, -1.16044554],\n",
       "       [-0.86614663, -0.78061024],\n",
       "       [-0.19763529, -0.51764734],\n",
       "       [-1.05714987, -0.45921114],\n",
       "       [-1.15265148,  1.41074727]])"
      ]
     },
     "execution_count": 27,
     "metadata": {},
     "output_type": "execute_result"
    }
   ],
   "source": [
    "X_train"
   ]
  },
  {
   "cell_type": "code",
   "execution_count": 28,
   "metadata": {},
   "outputs": [
    {
     "data": {
      "text/plain": [
       "LogisticRegression()"
      ]
     },
     "execution_count": 28,
     "metadata": {},
     "output_type": "execute_result"
    }
   ],
   "source": [
    "classifier1=LogisticRegression()\n",
    "classifier1.fit(X_train,y_train)"
   ]
  },
  {
   "cell_type": "code",
   "execution_count": 29,
   "metadata": {},
   "outputs": [],
   "source": [
    "# Predicting the test data results\n",
    "y_pred1=classifier1.predict(X_test)"
   ]
  },
  {
   "cell_type": "code",
   "execution_count": 30,
   "metadata": {},
   "outputs": [
    {
     "data": {
      "text/plain": [
       "array([0, 0, 0, 0, 0, 0, 0, 1, 0, 1, 0, 0, 0, 0, 0, 0, 0, 0, 1, 0, 0, 1,\n",
       "       0, 1, 0, 1, 0, 0, 0, 0, 0, 0, 1, 0, 0, 0, 0, 0, 0, 1], dtype=int64)"
      ]
     },
     "execution_count": 30,
     "metadata": {},
     "output_type": "execute_result"
    }
   ],
   "source": [
    "y_pred1  # predicted"
   ]
  },
  {
   "cell_type": "code",
   "execution_count": 31,
   "metadata": {},
   "outputs": [
    {
     "data": {
      "text/plain": [
       "array([0, 0, 0, 0, 0, 0, 0, 1, 0, 0, 0, 0, 0, 0, 0, 0, 0, 0, 1, 0, 0, 1,\n",
       "       0, 1, 0, 1, 0, 0, 0, 0, 0, 1, 1, 0, 0, 0, 0, 0, 0, 1], dtype=int64)"
      ]
     },
     "execution_count": 31,
     "metadata": {},
     "output_type": "execute_result"
    }
   ],
   "source": [
    "y_test  # actual"
   ]
  },
  {
   "cell_type": "code",
   "execution_count": 32,
   "metadata": {},
   "outputs": [
    {
     "data": {
      "text/plain": [
       "array([[31,  1],\n",
       "       [ 1,  7]], dtype=int64)"
      ]
     },
     "execution_count": 32,
     "metadata": {},
     "output_type": "execute_result"
    }
   ],
   "source": [
    "confusion_matrix(y_test,y_pred1)"
   ]
  },
  {
   "cell_type": "code",
   "execution_count": 33,
   "metadata": {},
   "outputs": [
    {
     "data": {
      "text/plain": [
       "0.95"
      ]
     },
     "execution_count": 33,
     "metadata": {},
     "output_type": "execute_result"
    }
   ],
   "source": [
    "accuracy_score(y_test,y_pred1)"
   ]
  },
  {
   "cell_type": "code",
   "execution_count": 34,
   "metadata": {},
   "outputs": [],
   "source": [
    "y_pred_prob1=classifier1.predict_proba(X_test)"
   ]
  },
  {
   "cell_type": "code",
   "execution_count": 35,
   "metadata": {
    "scrolled": true
   },
   "outputs": [
    {
     "data": {
      "text/plain": [
       "array([[0.88526912, 0.11473088],\n",
       "       [0.82673479, 0.17326521],\n",
       "       [0.80088355, 0.19911645],\n",
       "       [0.90852539, 0.09147461],\n",
       "       [0.89850836, 0.10149164],\n",
       "       [0.99163869, 0.00836131],\n",
       "       [0.98384755, 0.01615245],\n",
       "       [0.27058339, 0.72941661],\n",
       "       [0.99403159, 0.00596841],\n",
       "       [0.4823236 , 0.5176764 ],\n",
       "       [0.96240202, 0.03759798],\n",
       "       [0.96968133, 0.03031867],\n",
       "       [0.83353724, 0.16646276],\n",
       "       [0.6235348 , 0.3764652 ],\n",
       "       [0.98425233, 0.01574767],\n",
       "       [0.66474585, 0.33525415],\n",
       "       [0.71435801, 0.28564199],\n",
       "       [0.98754107, 0.01245893],\n",
       "       [0.01137959, 0.98862041],\n",
       "       [0.95539869, 0.04460131],\n",
       "       [0.90682175, 0.09317825],\n",
       "       [0.03703949, 0.96296051],\n",
       "       [0.71361451, 0.28638549],\n",
       "       [0.11636719, 0.88363281],\n",
       "       [0.99526213, 0.00473787],\n",
       "       [0.02724077, 0.97275923],\n",
       "       [0.92095316, 0.07904684],\n",
       "       [0.9220288 , 0.0779712 ],\n",
       "       [0.80059309, 0.19940691],\n",
       "       [0.84061269, 0.15938731],\n",
       "       [0.97948845, 0.02051155],\n",
       "       [0.70130717, 0.29869283],\n",
       "       [0.06491613, 0.93508387],\n",
       "       [0.84211125, 0.15788875],\n",
       "       [0.98514809, 0.01485191],\n",
       "       [0.99638919, 0.00361081],\n",
       "       [0.97978505, 0.02021495],\n",
       "       [0.93135512, 0.06864488],\n",
       "       [0.97096559, 0.02903441],\n",
       "       [0.4348968 , 0.5651032 ]])"
      ]
     },
     "execution_count": 35,
     "metadata": {},
     "output_type": "execute_result"
    }
   ],
   "source": [
    "y_pred_prob1"
   ]
  },
  {
   "cell_type": "code",
   "execution_count": 36,
   "metadata": {},
   "outputs": [
    {
     "name": "stderr",
     "output_type": "stream",
     "text": [
      "C:\\Users\\Meghashyam\\anaconda31\\lib\\site-packages\\seaborn\\_decorators.py:36: FutureWarning: Pass the following variables as keyword args: x, y. From version 0.12, the only valid positional argument will be `data`, and passing other arguments without an explicit keyword will result in an error or misinterpretation.\n",
      "  warnings.warn(\n"
     ]
    },
    {
     "data": {
      "image/png": "[encoded data removed]",
      "text/plain": [
       "<Figure size 432x288 with 1 Axes>"
      ]
     },
     "metadata": {
      "needs_background": "light"
     },
     "output_type": "display_data"
    }
   ],
   "source": [
    "sb.regplot(y_test,y_pred_prob1[:,0],logistic=True);"
   ]
  },
  {
   "cell_type": "code",
   "execution_count": 37,
   "metadata": {},
   "outputs": [
    {
     "name": "stdout",
     "output_type": "stream",
     "text": [
      "Optimization terminated successfully.\n",
      "         Current function value: 0.422419\n",
      "         Iterations 7\n"
     ]
    }
   ],
   "source": [
    "# Statsmodel\n",
    "import statsmodels.api as sm\n",
    "log=sm.Logit(y_train,X_train).fit()"
   ]
  },
  {
   "cell_type": "code",
   "execution_count": 38,
   "metadata": {
    "scrolled": true
   },
   "outputs": [
    {
     "data": {
      "text/html": [
       "<table class=\"simpletable\">\n",
       "<caption>Logit Regression Results</caption>\n",
       "<tr>\n",
       "  <th>Dep. Variable:</th>           <td>y</td>        <th>  No. Observations:  </th>  <td>   360</td>  \n",
       "</tr>\n",
       "<tr>\n",
       "  <th>Model:</th>                 <td>Logit</td>      <th>  Df Residuals:      </th>  <td>   358</td>  \n",
       "</tr>\n",
       "<tr>\n",
       "  <th>Method:</th>                 <td>MLE</td>       <th>  Df Model:          </th>  <td>     1</td>  \n",
       "</tr>\n",
       "<tr>\n",
       "  <th>Date:</th>            <td>Wed, 20 Jan 2021</td> <th>  Pseudo R-squ.:     </th>  <td>0.3615</td>  \n",
       "</tr>\n",
       "<tr>\n",
       "  <th>Time:</th>                <td>16:26:41</td>     <th>  Log-Likelihood:    </th> <td> -152.07</td> \n",
       "</tr>\n",
       "<tr>\n",
       "  <th>converged:</th>             <td>True</td>       <th>  LL-Null:           </th> <td> -238.16</td> \n",
       "</tr>\n",
       "<tr>\n",
       "  <th>Covariance Type:</th>     <td>nonrobust</td>    <th>  LLR p-value:       </th> <td>2.467e-39</td>\n",
       "</tr>\n",
       "</table>\n",
       "<table class=\"simpletable\">\n",
       "<tr>\n",
       "   <td></td>     <th>coef</th>     <th>std err</th>      <th>z</th>      <th>P>|z|</th>  <th>[0.025</th>    <th>0.975]</th>  \n",
       "</tr>\n",
       "<tr>\n",
       "  <th>x1</th> <td>    1.9951</td> <td>    0.226</td> <td>    8.814</td> <td> 0.000</td> <td>    1.552</td> <td>    2.439</td>\n",
       "</tr>\n",
       "<tr>\n",
       "  <th>x2</th> <td>    1.0419</td> <td>    0.179</td> <td>    5.819</td> <td> 0.000</td> <td>    0.691</td> <td>    1.393</td>\n",
       "</tr>\n",
       "</table>"
      ],
      "text/plain": [
       "<class 'statsmodels.iolib.summary.Summary'>\n",
       "\"\"\"\n",
       "                           Logit Regression Results                           \n",
       "==============================================================================\n",
       "Dep. Variable:                      y   No. Observations:                  360\n",
       "Model:                          Logit   Df Residuals:                      358\n",
       "Method:                           MLE   Df Model:                            1\n",
       "Date:                Wed, 20 Jan 2021   Pseudo R-squ.:                  0.3615\n",
       "Time:                        16:26:41   Log-Likelihood:                -152.07\n",
       "converged:                       True   LL-Null:                       -238.16\n",
       "Covariance Type:            nonrobust   LLR p-value:                 2.467e-39\n",
       "==============================================================================\n",
       "                 coef    std err          z      P>|z|      [0.025      0.975]\n",
       "------------------------------------------------------------------------------\n",
       "x1             1.9951      0.226      8.814      0.000       1.552       2.439\n",
       "x2             1.0419      0.179      5.819      0.000       0.691       1.393\n",
       "==============================================================================\n",
       "\"\"\""
      ]
     },
     "execution_count": 38,
     "metadata": {},
     "output_type": "execute_result"
    }
   ],
   "source": [
    "log.summary()"
   ]
  },
  {
   "cell_type": "code",
   "execution_count": 39,
   "metadata": {},
   "outputs": [],
   "source": [
    "#roc curve, auc \n",
    "from sklearn.metrics import roc_auc_score,roc_curve,classification_report"
   ]
  },
  {
   "cell_type": "code",
   "execution_count": 41,
   "metadata": {},
   "outputs": [],
   "source": [
    "fpr,tpr,thresholds=roc_curve(y_test,y_pred_prob1[:,1])"
   ]
  },
  {
   "cell_type": "code",
   "execution_count": 42,
   "metadata": {},
   "outputs": [
    {
     "data": {
      "text/plain": [
       "array([0.     , 0.     , 0.     , 0.09375, 0.09375, 1.     ])"
      ]
     },
     "execution_count": 42,
     "metadata": {},
     "output_type": "execute_result"
    }
   ],
   "source": [
    "fpr"
   ]
  },
  {
   "cell_type": "code",
   "execution_count": 43,
   "metadata": {},
   "outputs": [
    {
     "data": {
      "text/plain": [
       "array([0.   , 0.125, 0.875, 0.875, 1.   , 1.   ])"
      ]
     },
     "execution_count": 43,
     "metadata": {},
     "output_type": "execute_result"
    }
   ],
   "source": [
    "tpr"
   ]
  },
  {
   "cell_type": "code",
   "execution_count": 48,
   "metadata": {},
   "outputs": [
    {
     "data": {
      "text/plain": [
       "array([1.98862041, 0.98862041, 0.5651032 , 0.33525415, 0.29869283,\n",
       "       0.00361081])"
      ]
     },
     "execution_count": 48,
     "metadata": {},
     "output_type": "execute_result"
    }
   ],
   "source": [
    "thresholds"
   ]
  },
  {
   "cell_type": "code",
   "execution_count": 46,
   "metadata": {},
   "outputs": [
    {
     "data": {
      "image/png": "[encoded data removed]",
      "text/plain": [
       "<Figure size 432x288 with 1 Axes>"
      ]
     },
     "metadata": {
      "needs_background": "light"
     },
     "output_type": "display_data"
    }
   ],
   "source": [
    "#ROC plotting\n",
    "plt.figure()\n",
    "plt.plot(fpr,tpr)\n",
    "plt.plot([0,1],[0,1],'r--')\n",
    "plt.xlim([0.0,1.0])\n",
    "plt.ylim([0.0,1.05])\n",
    "plt.xlabel('False Positive Rate')\n",
    "plt.ylabel('True  POsitive Rate');\n"
   ]
  },
  {
   "cell_type": "code",
   "execution_count": 49,
   "metadata": {},
   "outputs": [],
   "source": [
    "auc=roc_auc_score(y_test,y_pred1) # measure of seperatability "
   ]
  },
  {
   "cell_type": "code",
   "execution_count": 50,
   "metadata": {},
   "outputs": [
    {
     "data": {
      "text/plain": [
       "0.921875"
      ]
     },
     "execution_count": 50,
     "metadata": {},
     "output_type": "execute_result"
    }
   ],
   "source": [
    "auc"
   ]
  },
  {
   "cell_type": "code",
   "execution_count": 62,
   "metadata": {},
   "outputs": [],
   "source": [
    "y_pred_prob=classifier1.predict_proba(X_test)[:,1]  #  taken the probability values \n",
    "y_pred_prob=y_pred_prob.reshape(1,-1)  #  multidimension-- single row , multiple column"
   ]
  },
  {
   "cell_type": "code",
   "execution_count": 63,
   "metadata": {},
   "outputs": [
    {
     "data": {
      "text/plain": [
       "array([[0.11473088, 0.17326521, 0.19911645, 0.09147461, 0.10149164,\n",
       "        0.00836131, 0.01615245, 0.72941661, 0.00596841, 0.5176764 ,\n",
       "        0.03759798, 0.03031867, 0.16646276, 0.3764652 , 0.01574767,\n",
       "        0.33525415, 0.28564199, 0.01245893, 0.98862041, 0.04460131,\n",
       "        0.09317825, 0.96296051, 0.28638549, 0.88363281, 0.00473787,\n",
       "        0.97275923, 0.07904684, 0.0779712 , 0.19940691, 0.15938731,\n",
       "        0.02051155, 0.29869283, 0.93508387, 0.15788875, 0.01485191,\n",
       "        0.00361081, 0.02021495, 0.06864488, 0.02903441, 0.5651032 ]])"
      ]
     },
     "execution_count": 63,
     "metadata": {},
     "output_type": "execute_result"
    }
   ],
   "source": [
    "y_pred_prob"
   ]
  },
  {
   "cell_type": "code",
   "execution_count": 54,
   "metadata": {},
   "outputs": [
    {
     "data": {
      "text/plain": [
       "array([[31,  1],\n",
       "       [ 1,  7]], dtype=int64)"
      ]
     },
     "execution_count": 54,
     "metadata": {},
     "output_type": "execute_result"
    }
   ],
   "source": [
    "confusion_matrix(y_test,y_pred1)  #  old confusion matrix"
   ]
  },
  {
   "cell_type": "code",
   "execution_count": 64,
   "metadata": {},
   "outputs": [
    {
     "name": "stderr",
     "output_type": "stream",
     "text": [
      "C:\\Users\\Meghashyam\\anaconda31\\lib\\site-packages\\sklearn\\utils\\validation.py:67: FutureWarning: Pass threshold=0.55 as keyword args. From version 0.25 passing these as positional arguments will result in an error\n",
      "  warnings.warn(\"Pass {} as keyword args. From version 0.25 \"\n"
     ]
    }
   ],
   "source": [
    "# Tuning Threshold\n",
    "from sklearn.preprocessing import binarize\n",
    "y_pred_class=binarize(y_pred_prob,0.55)[0]"
   ]
  },
  {
   "cell_type": "code",
   "execution_count": 66,
   "metadata": {},
   "outputs": [
    {
     "data": {
      "text/plain": [
       "array([0., 0., 0., 0., 0., 0., 0., 1., 0., 0., 0., 0., 0., 0., 0., 0., 0.,\n",
       "       0., 1., 0., 0., 1., 0., 1., 0., 1., 0., 0., 0., 0., 0., 0., 1., 0.,\n",
       "       0., 0., 0., 0., 0., 1.])"
      ]
     },
     "execution_count": 66,
     "metadata": {},
     "output_type": "execute_result"
    }
   ],
   "source": [
    "y_pred_class"
   ]
  },
  {
   "cell_type": "code",
   "execution_count": 67,
   "metadata": {},
   "outputs": [],
   "source": [
    "y_pred_class=y_pred_class.astype(int)"
   ]
  },
  {
   "cell_type": "code",
   "execution_count": 68,
   "metadata": {},
   "outputs": [
    {
     "data": {
      "text/plain": [
       "array([0, 0, 0, 0, 0, 0, 0, 1, 0, 0, 0, 0, 0, 0, 0, 0, 0, 0, 1, 0, 0, 1,\n",
       "       0, 1, 0, 1, 0, 0, 0, 0, 0, 0, 1, 0, 0, 0, 0, 0, 0, 1])"
      ]
     },
     "execution_count": 68,
     "metadata": {},
     "output_type": "execute_result"
    }
   ],
   "source": [
    "y_pred_class"
   ]
  },
  {
   "cell_type": "code",
   "execution_count": 69,
   "metadata": {},
   "outputs": [
    {
     "data": {
      "text/plain": [
       "array([[31,  1],\n",
       "       [ 1,  7]], dtype=int64)"
      ]
     },
     "execution_count": 69,
     "metadata": {},
     "output_type": "execute_result"
    }
   ],
   "source": [
    "confusion_matrix(y_test,y_pred1)   #old confusion matrix"
   ]
  },
  {
   "cell_type": "code",
   "execution_count": 71,
   "metadata": {},
   "outputs": [
    {
     "data": {
      "text/plain": [
       "array([[32,  0],\n",
       "       [ 1,  7]], dtype=int64)"
      ]
     },
     "execution_count": 71,
     "metadata": {},
     "output_type": "execute_result"
    }
   ],
   "source": [
    "confusion_matrix(y_test,y_pred_class)"
   ]
  },
  {
   "cell_type": "code",
   "execution_count": 72,
   "metadata": {},
   "outputs": [
    {
     "data": {
      "text/plain": [
       "0.975"
      ]
     },
     "execution_count": 72,
     "metadata": {},
     "output_type": "execute_result"
    }
   ],
   "source": [
    "accuracy_score(y_test,y_pred_class)"
   ]
  },
  {
   "cell_type": "code",
   "execution_count": 73,
   "metadata": {},
   "outputs": [
    {
     "name": "stdout",
     "output_type": "stream",
     "text": [
      "              precision    recall  f1-score   support\n",
      "\n",
      "           0       0.97      1.00      0.98        32\n",
      "           1       1.00      0.88      0.93         8\n",
      "\n",
      "    accuracy                           0.97        40\n",
      "   macro avg       0.98      0.94      0.96        40\n",
      "weighted avg       0.98      0.97      0.97        40\n",
      "\n"
     ]
    }
   ],
   "source": [
    "print(classification_report(y_test,y_pred_class))"
   ]
  }
 ],
 "metadata": {
  "kernelspec": {
   "display_name": "Python 3",
   "language": "python",
   "name": "python3"
  },
  "language_info": {
   "codemirror_mode": {
    "name": "ipython",
    "version": 3
   },
   "file_extension": ".py",
   "mimetype": "text/x-python",
   "name": "python",
   "nbconvert_exporter": "python",
   "pygments_lexer": "ipython3",
   "version": "3.8.5"
  }
 },
 "nbformat": 4,
 "nbformat_minor": 4
}
